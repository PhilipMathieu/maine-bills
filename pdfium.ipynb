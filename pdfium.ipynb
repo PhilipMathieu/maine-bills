{
 "cells": [
  {
   "cell_type": "code",
   "execution_count": 1,
   "metadata": {},
   "outputs": [],
   "source": [
    "import pypdfium2 as pdfium"
   ]
  },
  {
   "cell_type": "code",
   "execution_count": 2,
   "metadata": {},
   "outputs": [],
   "source": [
    "filename = \"Maine-2023-LD73-Introduced.pdf\""
   ]
  },
  {
   "cell_type": "code",
   "execution_count": 3,
   "metadata": {},
   "outputs": [],
   "source": [
    "pdf = pdfium.PdfDocument(\"./pdf/\"+filename)\n",
    "version = pdf.get_version()  # get the PDF standard version\n",
    "n_pages = len(pdf)  # get the number of pages in the document"
   ]
  },
  {
   "cell_type": "code",
   "execution_count": 4,
   "metadata": {},
   "outputs": [
    {
     "name": "stdout",
     "output_type": "stream",
     "text": [
      "['Page 1 - 131LR0054(01)', '1 Be it enacted by the People of the State of Maine as follows:', '2 Sec. 1. 22 MRSA c. 601, sub-c. 9 is enacted to read:', '3 SUBCHAPTER 9', '4 BOTTLED WATER']\n"
     ]
    }
   ],
   "source": [
    "page = pdf[1]  # or pdf.get_page(0)\n",
    "\n",
    "# Load a text page helper\n",
    "textpage = page.get_textpage()\n",
    "\n",
    "# Extract text from the whole page\n",
    "text_all = textpage.get_text_range()\n",
    "\n",
    "# Split text at line breaks\n",
    "lines = text_all.split('\\r\\n')\n",
    "print(lines[0:5])"
   ]
  },
  {
   "cell_type": "code",
   "execution_count": 5,
   "metadata": {},
   "outputs": [],
   "source": [
    "# Write all text to .txt\n",
    "with open(\"./txt/\"+filename[0:-4]+\".txt\", 'w') as file:\n",
    "    file.writelines([line + \"\\n\" for line in lines])"
   ]
  },
  {
   "cell_type": "code",
   "execution_count": 6,
   "metadata": {},
   "outputs": [
    {
     "name": "stdout",
     "output_type": "stream",
     "text": [
      "Converted .pdf to .txt in 0.0103 s\n"
     ]
    }
   ],
   "source": [
    "import time\n",
    "tic = time.perf_counter()\n",
    "\n",
    "pdf = pdfium.PdfDocument(\"./pdf/\"+filename)\n",
    "\n",
    "page = pdf[1]  # or pdf.get_page(0)\n",
    "\n",
    "# Load a text page helper\n",
    "textpage = page.get_textpage()\n",
    "\n",
    "# Extract text from the whole page\n",
    "text_all = textpage.get_text_range()\n",
    "\n",
    "# Split text at line breaks\n",
    "lines = text_all.split('\\r\\n')\n",
    "\n",
    "# Write all text to .txt\n",
    "with open(\"./txt/\"+filename[0:-4]+\".txt\", 'w') as file:\n",
    "    file.writelines([line + \"\\n\" for line in lines])\n",
    "\n",
    "toc = time.perf_counter()\n",
    "print(\"Converted .pdf to .txt in {:2.4f} s\".format(toc-tic))\n",
    "\n",
    "\n"
   ]
  },
  {
   "cell_type": "code",
   "execution_count": null,
   "metadata": {},
   "outputs": [],
   "source": []
  }
 ],
 "metadata": {
  "kernelspec": {
   "display_name": "nlp-proto",
   "language": "python",
   "name": "python3"
  },
  "language_info": {
   "codemirror_mode": {
    "name": "ipython",
    "version": 3
   },
   "file_extension": ".py",
   "mimetype": "text/x-python",
   "name": "python",
   "nbconvert_exporter": "python",
   "pygments_lexer": "ipython3",
   "version": "3.11.0"
  },
  "orig_nbformat": 4,
  "vscode": {
   "interpreter": {
    "hash": "cb55297364548e7df108538ca741dfef8b651b357f194dcc1343e4992786ee45"
   }
  }
 },
 "nbformat": 4,
 "nbformat_minor": 2
}
